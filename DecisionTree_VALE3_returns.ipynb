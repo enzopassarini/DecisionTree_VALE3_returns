{
 "cells": [
  {
   "cell_type": "markdown",
   "metadata": {},
   "source": [
    "## Trying to predict VALE3 returns through Decision Trees"
   ]
  },
  {
   "cell_type": "markdown",
   "metadata": {},
   "source": [
    "As already stated in the project's READ.ME, this was only a inicial attempt in this field. Surely there are many machine learning algorithms and possible modifications or restructurings of data that could get a better accuracy in the predictions made. Nevertheless, it was interesting to see how a simple machine learning model like a Decision Tree responds to the \"stock returns prediction\" academic field."
   ]
  },
  {
   "cell_type": "markdown",
   "metadata": {},
   "source": [
    "Period of analysis: 26/09/2011 - 08/04/2022 <br>\n",
    "Assets: VALE3, CC Fut BVSP, CC Fut USD/BRL, Iron Ore 62% Fe CFR and CSI 1000 (China)"
   ]
  },
  {
   "cell_type": "markdown",
   "metadata": {},
   "source": [
    "### Packages"
   ]
  },
  {
   "cell_type": "code",
   "execution_count": 224,
   "metadata": {
    "executionInfo": {
     "elapsed": 427,
     "status": "ok",
     "timestamp": 1648824042745,
     "user": {
      "displayName": "Marcel Zanetti",
      "userId": "13232421467772887687"
     },
     "user_tz": 180
    },
    "id": "INRjo-k7XYf5"
   },
   "outputs": [],
   "source": [
    "import pandas as pd\n",
    "import numpy as np\n",
    "import matplotlib.pyplot as plt\n",
    "import itertools\n",
    "\n",
    "\n",
    "from sklearn.tree import DecisionTreeClassifier\n",
    "from sklearn import tree\n",
    "from sklearn.model_selection import train_test_split\n",
    "from sklearn.metrics import accuracy_score"
   ]
  },
  {
   "cell_type": "markdown",
   "metadata": {},
   "source": [
    "## DATA"
   ]
  },
  {
   "cell_type": "markdown",
   "metadata": {},
   "source": [
    "### Data imported from \"investing.com\""
   ]
  },
  {
   "cell_type": "code",
   "execution_count": 225,
   "metadata": {
    "executionInfo": {
     "elapsed": 17,
     "status": "ok",
     "timestamp": 1648824043163,
     "user": {
      "displayName": "Marcel Zanetti",
      "userId": "13232421467772887687"
     },
     "user_tz": 180
    },
    "id": "nWHN6IDhdubS"
   },
   "outputs": [],
   "source": [
    "# VALE3\n",
    "dadosbrutos_vale3 = pd.read_csv(\"VALE3 Dados Históricos.csv\")\n",
    "# CC Fut BVSP\n",
    "dadosbrutos_ibov = pd.read_csv(\"Futuros Mini Ibovespa - Dados Históricos.csv\")\n",
    "# CC Fut USD/BRL\n",
    "dadosbrutos_mini_dolar = pd.read_csv(\"Mini Dólar Futuros Dados Históricos.csv\")\n",
    "# Iron Ore 62% Fe CFR\n",
    "dadosbrutos_minferro = pd.read_csv(\"Minério de ferro refinado 62_ Fe CFR Futuros Dados Históricos.csv\")\n",
    "# CSI 1000 (China)\n",
    "dadosbrutos_china = pd.read_csv(\"CSI 1000 Dados Históricos.csv\")"
   ]
  },
  {
   "cell_type": "markdown",
   "metadata": {
    "id": "ZljSpmC8ecMD"
   },
   "source": [
    "### Cleaning Data"
   ]
  },
  {
   "cell_type": "code",
   "execution_count": 226,
   "metadata": {
    "colab": {
     "base_uri": "https://localhost:8080/",
     "height": 206
    },
    "executionInfo": {
     "elapsed": 18,
     "status": "ok",
     "timestamp": 1648824043165,
     "user": {
      "displayName": "Marcel Zanetti",
      "userId": "13232421467772887687"
     },
     "user_tz": 180
    },
    "id": "rDEC5294dur5",
    "outputId": "76d89097-84e3-4d9a-b57a-2e877c3c8039"
   },
   "outputs": [],
   "source": [
    "# VALE3\n",
    "dadosbrutos_vale3 = dadosbrutos_vale3.drop([\"Último\", \"Abertura\", \"Máxima\", \"Mínima\", \"Vol.\"], axis=1)\n",
    "dadosbrutos_vale3.rename(columns = {\"Var%\":\"VALE3\"}, inplace = True)\n",
    "dadosbrutos_vale3[\"VALE3\"] = [c.replace(',', '.') for c in dadosbrutos_vale3[\"VALE3\"]]\n",
    "dadosbrutos_vale3[\"VALE3\"] = dadosbrutos_vale3[\"VALE3\"].str.rstrip(\"%\").astype(\"float\") / 100.0\n",
    "\n",
    "# MINI_IBOV\n",
    "dadosbrutos_ibov = dadosbrutos_ibov.drop([\"Último\", \"Abertura\", \"Máxima\", \"Mínima\", \"Vol.\"], axis=1)\n",
    "dadosbrutos_ibov.rename(columns = {\"Var%\":\"IBOV\"}, inplace = True)\n",
    "dadosbrutos_ibov[\"IBOV\"] = [c.replace(',', '.') for c in dadosbrutos_ibov[\"IBOV\"]]\n",
    "dadosbrutos_ibov[\"IBOV\"] = dadosbrutos_ibov[\"IBOV\"].str.rstrip(\"%\").astype(\"float\") / 100.0\n",
    "\n",
    "# MINI_DOLAR\n",
    "dadosbrutos_mini_dolar = dadosbrutos_mini_dolar.drop([\"Último\", \"Abertura\", \"Máxima\", \"Mínima\", \"Vol.\"], axis=1)\n",
    "dadosbrutos_mini_dolar.rename(columns = {\"Var%\":\"DOLFUT\"}, inplace = True)\n",
    "dadosbrutos_mini_dolar[\"DOLFUT\"] = [c.replace(',', '.') for c in dadosbrutos_mini_dolar[\"DOLFUT\"]]\n",
    "dadosbrutos_mini_dolar[\"DOLFUT\"] = dadosbrutos_mini_dolar[\"DOLFUT\"].str.rstrip(\"%\").astype(\"float\") / 100.0\n",
    "\n",
    "# Min_Ferro\n",
    "dadosbrutos_minferro = dadosbrutos_minferro.drop([\"Último\", \"Abertura\", \"Máxima\", \"Mínima\", \"Vol.\"], axis=1)\n",
    "dadosbrutos_minferro.rename(columns = {\"Var%\":\"Min_Ferro\"}, inplace = True)\n",
    "dadosbrutos_minferro[\"Min_Ferro\"] = [c.replace(',', '.') for c in dadosbrutos_minferro[\"Min_Ferro\"]]\n",
    "dadosbrutos_minferro[\"Min_Ferro\"] = dadosbrutos_minferro[\"Min_Ferro\"].str.rstrip(\"%\").astype(\"float\") / 100.0\n",
    "\n",
    "# China\n",
    "dadosbrutos_china = dadosbrutos_china.drop([\"Último\", \"Abertura\", \"Máxima\", \"Mínima\", \"Vol.\"], axis=1)\n",
    "dadosbrutos_china.rename(columns = {\"Var%\":\"CHINA\"}, inplace = True)\n",
    "dadosbrutos_china[\"CHINA\"] = [c.replace(',', '.') for c in dadosbrutos_china[\"CHINA\"]]\n",
    "dadosbrutos_china[\"CHINA\"] = dadosbrutos_china[\"CHINA\"].str.rstrip(\"%\").astype(\"float\") / 100.0"
   ]
  },
  {
   "cell_type": "markdown",
   "metadata": {},
   "source": [
    "### Merging Data"
   ]
  },
  {
   "cell_type": "markdown",
   "metadata": {},
   "source": [
    "1) Seeing what is the size of each dataframe"
   ]
  },
  {
   "cell_type": "code",
   "execution_count": 227,
   "metadata": {},
   "outputs": [
    {
     "name": "stdout",
     "output_type": "stream",
     "text": [
      "VALE3 shape: (2607, 2)\n",
      "BVSP shape: (2619, 2)\n",
      "USDFUT shape: (2604, 2)\n",
      "IRON_ORE shape: (2645, 2)\n",
      "CHINA shape: (2560, 2)\n"
     ]
    }
   ],
   "source": [
    "print(f\"VALE3 shape: {dadosbrutos_vale3.shape}\")\n",
    "print(f\"BVSP shape: {dadosbrutos_ibov.shape}\")\n",
    "print(f\"USDFUT shape: {dadosbrutos_mini_dolar.shape}\")\n",
    "print(f\"IRON_ORE shape: {dadosbrutos_minferro.shape}\")\n",
    "print(f\"CHINA shape: {dadosbrutos_china.shape}\")"
   ]
  },
  {
   "cell_type": "markdown",
   "metadata": {},
   "source": [
    "2) Merging and reordering columns"
   ]
  },
  {
   "cell_type": "code",
   "execution_count": 228,
   "metadata": {},
   "outputs": [
    {
     "data": {
      "text/html": [
       "<div>\n",
       "<style scoped>\n",
       "    .dataframe tbody tr th:only-of-type {\n",
       "        vertical-align: middle;\n",
       "    }\n",
       "\n",
       "    .dataframe tbody tr th {\n",
       "        vertical-align: top;\n",
       "    }\n",
       "\n",
       "    .dataframe thead th {\n",
       "        text-align: right;\n",
       "    }\n",
       "</style>\n",
       "<table border=\"1\" class=\"dataframe\">\n",
       "  <thead>\n",
       "    <tr style=\"text-align: right;\">\n",
       "      <th></th>\n",
       "      <th>Data</th>\n",
       "      <th>IBOV</th>\n",
       "      <th>DOLFUT</th>\n",
       "      <th>Min_Ferro</th>\n",
       "      <th>CHINA</th>\n",
       "      <th>VALE3</th>\n",
       "    </tr>\n",
       "  </thead>\n",
       "  <tbody>\n",
       "    <tr>\n",
       "      <th>0</th>\n",
       "      <td>26.09.2011</td>\n",
       "      <td>0.0080</td>\n",
       "      <td>0.0000</td>\n",
       "      <td>-0.0011</td>\n",
       "      <td>-0.0151</td>\n",
       "      <td>-0.0133</td>\n",
       "    </tr>\n",
       "    <tr>\n",
       "      <th>1</th>\n",
       "      <td>27.09.2011</td>\n",
       "      <td>0.0045</td>\n",
       "      <td>-0.0283</td>\n",
       "      <td>-0.0011</td>\n",
       "      <td>0.0035</td>\n",
       "      <td>0.0111</td>\n",
       "    </tr>\n",
       "    <tr>\n",
       "      <th>2</th>\n",
       "      <td>28.09.2011</td>\n",
       "      <td>-0.0163</td>\n",
       "      <td>0.0145</td>\n",
       "      <td>-0.0006</td>\n",
       "      <td>-0.0188</td>\n",
       "      <td>-0.0047</td>\n",
       "    </tr>\n",
       "    <tr>\n",
       "      <th>3</th>\n",
       "      <td>29.09.2011</td>\n",
       "      <td>0.0055</td>\n",
       "      <td>0.0000</td>\n",
       "      <td>-0.0017</td>\n",
       "      <td>-0.0388</td>\n",
       "      <td>-0.0063</td>\n",
       "    </tr>\n",
       "    <tr>\n",
       "      <th>5</th>\n",
       "      <td>10.10.2011</td>\n",
       "      <td>0.0435</td>\n",
       "      <td>-0.0119</td>\n",
       "      <td>-0.0072</td>\n",
       "      <td>-0.0036</td>\n",
       "      <td>0.0314</td>\n",
       "    </tr>\n",
       "    <tr>\n",
       "      <th>...</th>\n",
       "      <td>...</td>\n",
       "      <td>...</td>\n",
       "      <td>...</td>\n",
       "      <td>...</td>\n",
       "      <td>...</td>\n",
       "      <td>...</td>\n",
       "    </tr>\n",
       "    <tr>\n",
       "      <th>2553</th>\n",
       "      <td>31.03.2022</td>\n",
       "      <td>-0.0043</td>\n",
       "      <td>0.0015</td>\n",
       "      <td>0.0015</td>\n",
       "      <td>-0.0131</td>\n",
       "      <td>-0.0028</td>\n",
       "    </tr>\n",
       "    <tr>\n",
       "      <th>2554</th>\n",
       "      <td>01.04.2022</td>\n",
       "      <td>0.0130</td>\n",
       "      <td>-0.0169</td>\n",
       "      <td>0.0597</td>\n",
       "      <td>0.0001</td>\n",
       "      <td>0.0142</td>\n",
       "    </tr>\n",
       "    <tr>\n",
       "      <th>2555</th>\n",
       "      <td>06.04.2022</td>\n",
       "      <td>-0.0051</td>\n",
       "      <td>0.0107</td>\n",
       "      <td>-0.0073</td>\n",
       "      <td>-0.0013</td>\n",
       "      <td>0.0151</td>\n",
       "    </tr>\n",
       "    <tr>\n",
       "      <th>2556</th>\n",
       "      <td>07.04.2022</td>\n",
       "      <td>0.0048</td>\n",
       "      <td>0.0082</td>\n",
       "      <td>-0.0174</td>\n",
       "      <td>-0.0204</td>\n",
       "      <td>0.0060</td>\n",
       "    </tr>\n",
       "    <tr>\n",
       "      <th>2557</th>\n",
       "      <td>08.04.2022</td>\n",
       "      <td>-0.0051</td>\n",
       "      <td>-0.0089</td>\n",
       "      <td>-0.0196</td>\n",
       "      <td>-0.0078</td>\n",
       "      <td>-0.0204</td>\n",
       "    </tr>\n",
       "  </tbody>\n",
       "</table>\n",
       "<p>2366 rows × 6 columns</p>\n",
       "</div>"
      ],
      "text/plain": [
       "            Data    IBOV  DOLFUT  Min_Ferro   CHINA   VALE3\n",
       "0     26.09.2011  0.0080  0.0000    -0.0011 -0.0151 -0.0133\n",
       "1     27.09.2011  0.0045 -0.0283    -0.0011  0.0035  0.0111\n",
       "2     28.09.2011 -0.0163  0.0145    -0.0006 -0.0188 -0.0047\n",
       "3     29.09.2011  0.0055  0.0000    -0.0017 -0.0388 -0.0063\n",
       "5     10.10.2011  0.0435 -0.0119    -0.0072 -0.0036  0.0314\n",
       "...          ...     ...     ...        ...     ...     ...\n",
       "2553  31.03.2022 -0.0043  0.0015     0.0015 -0.0131 -0.0028\n",
       "2554  01.04.2022  0.0130 -0.0169     0.0597  0.0001  0.0142\n",
       "2555  06.04.2022 -0.0051  0.0107    -0.0073 -0.0013  0.0151\n",
       "2556  07.04.2022  0.0048  0.0082    -0.0174 -0.0204  0.0060\n",
       "2557  08.04.2022 -0.0051 -0.0089    -0.0196 -0.0078 -0.0204\n",
       "\n",
       "[2366 rows x 6 columns]"
      ]
     },
     "execution_count": 228,
     "metadata": {},
     "output_type": "execute_result"
    }
   ],
   "source": [
    "temp_list = [dadosbrutos_ibov, dadosbrutos_mini_dolar, dadosbrutos_minferro, dadosbrutos_china]\n",
    "\n",
    "full_data = dadosbrutos_vale3\n",
    "for i in temp_list:\n",
    "    full_data = full_data.merge(i, on=\"Data\", how=\"right\")\n",
    "\n",
    "full_data = full_data.dropna(axis=0)\n",
    "full_data = full_data[[\"Data\", \"IBOV\", \"DOLFUT\", \"Min_Ferro\", \"CHINA\", \"VALE3\"]]\n",
    "full_data"
   ]
  },
  {
   "cell_type": "markdown",
   "metadata": {},
   "source": [
    "3) As we want to try to predict VALE3 returns, we need to use yesterday's data of the independent variables, so we shift their data one row down, and drop the NaN row generated"
   ]
  },
  {
   "cell_type": "code",
   "execution_count": 229,
   "metadata": {},
   "outputs": [],
   "source": [
    "for i in full_data.drop([\"VALE3\"], axis=1).columns:\n",
    "    full_data[i] = full_data[i].shift(1)\n",
    "\n",
    "full_data = full_data.dropna(axis=0)"
   ]
  },
  {
   "cell_type": "markdown",
   "metadata": {},
   "source": [
    "### Transforming continuous returns into \"bands\""
   ]
  },
  {
   "cell_type": "code",
   "execution_count": 230,
   "metadata": {},
   "outputs": [
    {
     "data": {
      "text/html": [
       "<div>\n",
       "<style scoped>\n",
       "    .dataframe tbody tr th:only-of-type {\n",
       "        vertical-align: middle;\n",
       "    }\n",
       "\n",
       "    .dataframe tbody tr th {\n",
       "        vertical-align: top;\n",
       "    }\n",
       "\n",
       "    .dataframe thead th {\n",
       "        text-align: right;\n",
       "    }\n",
       "</style>\n",
       "<table border=\"1\" class=\"dataframe\">\n",
       "  <thead>\n",
       "    <tr style=\"text-align: right;\">\n",
       "      <th></th>\n",
       "      <th>band number</th>\n",
       "      <th>interval</th>\n",
       "    </tr>\n",
       "  </thead>\n",
       "  <tbody>\n",
       "    <tr>\n",
       "      <th>0</th>\n",
       "      <td>6</td>\n",
       "      <td>3% to 100%</td>\n",
       "    </tr>\n",
       "    <tr>\n",
       "      <th>1</th>\n",
       "      <td>5</td>\n",
       "      <td>1.5% to 3%</td>\n",
       "    </tr>\n",
       "    <tr>\n",
       "      <th>2</th>\n",
       "      <td>4</td>\n",
       "      <td>0% to 1.5%</td>\n",
       "    </tr>\n",
       "    <tr>\n",
       "      <th>3</th>\n",
       "      <td>3</td>\n",
       "      <td>-1.5% to 0%</td>\n",
       "    </tr>\n",
       "    <tr>\n",
       "      <th>4</th>\n",
       "      <td>2</td>\n",
       "      <td>-3% to -1.5%</td>\n",
       "    </tr>\n",
       "    <tr>\n",
       "      <th>5</th>\n",
       "      <td>1</td>\n",
       "      <td>-100% to -3%</td>\n",
       "    </tr>\n",
       "  </tbody>\n",
       "</table>\n",
       "</div>"
      ],
      "text/plain": [
       "   band number      interval\n",
       "0            6    3% to 100%\n",
       "1            5    1.5% to 3%\n",
       "2            4    0% to 1.5%\n",
       "3            3   -1.5% to 0%\n",
       "4            2  -3% to -1.5%\n",
       "5            1  -100% to -3%"
      ]
     },
     "execution_count": 230,
     "metadata": {},
     "output_type": "execute_result"
    }
   ],
   "source": [
    "bands_rule = pd.read_excel(\"pricebands_rule.xlsx\")\n",
    "bands_rule"
   ]
  },
  {
   "cell_type": "code",
   "execution_count": 231,
   "metadata": {},
   "outputs": [],
   "source": [
    "full_data = full_data.drop([\"Data\"], axis=1)"
   ]
  },
  {
   "cell_type": "code",
   "execution_count": 232,
   "metadata": {},
   "outputs": [],
   "source": [
    "bands_fulldata = pd.DataFrame()\n",
    "\n",
    "for i in full_data.columns:\n",
    "    conditions = [\n",
    "        (full_data[i] <  -0.03),\n",
    "        (full_data[i] >= -0.03)  & (full_data[i] < -0.015),\n",
    "        (full_data[i] >= -0.015) & (full_data[i] <  0),\n",
    "        (full_data[i] >=  0)     & (full_data[i] <  0.015),\n",
    "        (full_data[i] >=  0.015) & (full_data[i] <  0.03),\n",
    "        (full_data[i] >  0.03)\n",
    "                ]\n",
    "\n",
    "    values = ['1', '2', '3', '4', '5', '6']\n",
    "\n",
    "\n",
    "    bands_fulldata[f'band_{i}'] = np.select(conditions, values)"
   ]
  },
  {
   "cell_type": "code",
   "execution_count": 233,
   "metadata": {},
   "outputs": [
    {
     "data": {
      "text/html": [
       "<div>\n",
       "<style scoped>\n",
       "    .dataframe tbody tr th:only-of-type {\n",
       "        vertical-align: middle;\n",
       "    }\n",
       "\n",
       "    .dataframe tbody tr th {\n",
       "        vertical-align: top;\n",
       "    }\n",
       "\n",
       "    .dataframe thead th {\n",
       "        text-align: right;\n",
       "    }\n",
       "</style>\n",
       "<table border=\"1\" class=\"dataframe\">\n",
       "  <thead>\n",
       "    <tr style=\"text-align: right;\">\n",
       "      <th></th>\n",
       "      <th>band_IBOV</th>\n",
       "      <th>band_DOLFUT</th>\n",
       "      <th>band_Min_Ferro</th>\n",
       "      <th>band_CHINA</th>\n",
       "      <th>band_VALE3</th>\n",
       "    </tr>\n",
       "  </thead>\n",
       "  <tbody>\n",
       "    <tr>\n",
       "      <th>0</th>\n",
       "      <td>4</td>\n",
       "      <td>4</td>\n",
       "      <td>3</td>\n",
       "      <td>2</td>\n",
       "      <td>4</td>\n",
       "    </tr>\n",
       "    <tr>\n",
       "      <th>1</th>\n",
       "      <td>4</td>\n",
       "      <td>2</td>\n",
       "      <td>3</td>\n",
       "      <td>4</td>\n",
       "      <td>3</td>\n",
       "    </tr>\n",
       "    <tr>\n",
       "      <th>2</th>\n",
       "      <td>2</td>\n",
       "      <td>4</td>\n",
       "      <td>3</td>\n",
       "      <td>2</td>\n",
       "      <td>3</td>\n",
       "    </tr>\n",
       "    <tr>\n",
       "      <th>3</th>\n",
       "      <td>4</td>\n",
       "      <td>4</td>\n",
       "      <td>3</td>\n",
       "      <td>1</td>\n",
       "      <td>6</td>\n",
       "    </tr>\n",
       "    <tr>\n",
       "      <th>4</th>\n",
       "      <td>6</td>\n",
       "      <td>3</td>\n",
       "      <td>3</td>\n",
       "      <td>3</td>\n",
       "      <td>4</td>\n",
       "    </tr>\n",
       "    <tr>\n",
       "      <th>...</th>\n",
       "      <td>...</td>\n",
       "      <td>...</td>\n",
       "      <td>...</td>\n",
       "      <td>...</td>\n",
       "      <td>...</td>\n",
       "    </tr>\n",
       "    <tr>\n",
       "      <th>2360</th>\n",
       "      <td>4</td>\n",
       "      <td>4</td>\n",
       "      <td>4</td>\n",
       "      <td>5</td>\n",
       "      <td>3</td>\n",
       "    </tr>\n",
       "    <tr>\n",
       "      <th>2361</th>\n",
       "      <td>3</td>\n",
       "      <td>4</td>\n",
       "      <td>4</td>\n",
       "      <td>3</td>\n",
       "      <td>4</td>\n",
       "    </tr>\n",
       "    <tr>\n",
       "      <th>2362</th>\n",
       "      <td>4</td>\n",
       "      <td>2</td>\n",
       "      <td>6</td>\n",
       "      <td>4</td>\n",
       "      <td>5</td>\n",
       "    </tr>\n",
       "    <tr>\n",
       "      <th>2363</th>\n",
       "      <td>3</td>\n",
       "      <td>4</td>\n",
       "      <td>3</td>\n",
       "      <td>3</td>\n",
       "      <td>4</td>\n",
       "    </tr>\n",
       "    <tr>\n",
       "      <th>2364</th>\n",
       "      <td>4</td>\n",
       "      <td>4</td>\n",
       "      <td>2</td>\n",
       "      <td>2</td>\n",
       "      <td>2</td>\n",
       "    </tr>\n",
       "  </tbody>\n",
       "</table>\n",
       "<p>2365 rows × 5 columns</p>\n",
       "</div>"
      ],
      "text/plain": [
       "     band_IBOV band_DOLFUT band_Min_Ferro band_CHINA band_VALE3\n",
       "0            4           4              3          2          4\n",
       "1            4           2              3          4          3\n",
       "2            2           4              3          2          3\n",
       "3            4           4              3          1          6\n",
       "4            6           3              3          3          4\n",
       "...        ...         ...            ...        ...        ...\n",
       "2360         4           4              4          5          3\n",
       "2361         3           4              4          3          4\n",
       "2362         4           2              6          4          5\n",
       "2363         3           4              3          3          4\n",
       "2364         4           4              2          2          2\n",
       "\n",
       "[2365 rows x 5 columns]"
      ]
     },
     "execution_count": 233,
     "metadata": {},
     "output_type": "execute_result"
    }
   ],
   "source": [
    "bands_fulldata"
   ]
  },
  {
   "cell_type": "markdown",
   "metadata": {},
   "source": [
    "## DECISION TREE MODEL"
   ]
  },
  {
   "cell_type": "markdown",
   "metadata": {},
   "source": [
    "1) Separating data into independent and dependent variables"
   ]
  },
  {
   "cell_type": "code",
   "execution_count": 234,
   "metadata": {},
   "outputs": [],
   "source": [
    "X = bands_fulldata.drop([\"band_VALE3\"], axis=1)\n",
    "Y = bands_fulldata[\"band_VALE3\"]"
   ]
  },
  {
   "cell_type": "markdown",
   "metadata": {},
   "source": [
    "2) Making a train_test split "
   ]
  },
  {
   "cell_type": "code",
   "execution_count": 235,
   "metadata": {},
   "outputs": [],
   "source": [
    "X_train, X_test, Y_train, Y_test = train_test_split(X,Y, test_size=0.2)"
   ]
  },
  {
   "cell_type": "markdown",
   "metadata": {},
   "source": [
    "3) Training and testing the model accuracy"
   ]
  },
  {
   "cell_type": "code",
   "execution_count": 236,
   "metadata": {},
   "outputs": [
    {
     "name": "stdout",
     "output_type": "stream",
     "text": [
      "The model accuracy was: 0.2558\n"
     ]
    }
   ],
   "source": [
    "model = DecisionTreeClassifier()\n",
    "\n",
    "model.fit(X=X_train, y=Y_train)\n",
    "predictions = model.predict(X_test)\n",
    "print(f\"The model accuracy was: {round(accuracy_score(Y_test, predictions), 4)}\")"
   ]
  },
  {
   "cell_type": "markdown",
   "metadata": {},
   "source": [
    "4) The image is too big, but just as a visual representation, this was the decision tree created:"
   ]
  },
  {
   "cell_type": "code",
   "execution_count": 237,
   "metadata": {
    "scrolled": false
   },
   "outputs": [
    {
     "data": {
      "image/png": "[encoded data removed]",
      "text/plain": [
       "<Figure size 432x288 with 1 Axes>"
      ]
     },
     "metadata": {
      "needs_background": "light"
     },
     "output_type": "display_data"
    }
   ],
   "source": [
    "tree.plot_tree(model)\n",
    "plt.show()"
   ]
  },
  {
   "cell_type": "markdown",
   "metadata": {},
   "source": [
    "<br>"
   ]
  },
  {
   "cell_type": "markdown",
   "metadata": {},
   "source": [
    "<br>"
   ]
  },
  {
   "cell_type": "markdown",
   "metadata": {},
   "source": [
    "#### Extra: splitting data, training and testing 20 different models, and calculating their average accuracy"
   ]
  },
  {
   "cell_type": "code",
   "execution_count": 223,
   "metadata": {},
   "outputs": [
    {
     "name": "stdout",
     "output_type": "stream",
     "text": [
      "The average accuracy was: 0.2493\n"
     ]
    },
    {
     "data": {
      "text/html": [
       "<div>\n",
       "<style scoped>\n",
       "    .dataframe tbody tr th:only-of-type {\n",
       "        vertical-align: middle;\n",
       "    }\n",
       "\n",
       "    .dataframe tbody tr th {\n",
       "        vertical-align: top;\n",
       "    }\n",
       "\n",
       "    .dataframe thead th {\n",
       "        text-align: right;\n",
       "    }\n",
       "</style>\n",
       "<table border=\"1\" class=\"dataframe\">\n",
       "  <thead>\n",
       "    <tr style=\"text-align: right;\">\n",
       "      <th></th>\n",
       "      <th>Accuracy</th>\n",
       "    </tr>\n",
       "  </thead>\n",
       "  <tbody>\n",
       "    <tr>\n",
       "      <th>0</th>\n",
       "      <td>0.270613</td>\n",
       "    </tr>\n",
       "    <tr>\n",
       "      <th>1</th>\n",
       "      <td>0.253700</td>\n",
       "    </tr>\n",
       "    <tr>\n",
       "      <th>2</th>\n",
       "      <td>0.255814</td>\n",
       "    </tr>\n",
       "    <tr>\n",
       "      <th>3</th>\n",
       "      <td>0.234672</td>\n",
       "    </tr>\n",
       "    <tr>\n",
       "      <th>4</th>\n",
       "      <td>0.236786</td>\n",
       "    </tr>\n",
       "    <tr>\n",
       "      <th>5</th>\n",
       "      <td>0.255814</td>\n",
       "    </tr>\n",
       "    <tr>\n",
       "      <th>6</th>\n",
       "      <td>0.230444</td>\n",
       "    </tr>\n",
       "    <tr>\n",
       "      <th>7</th>\n",
       "      <td>0.257928</td>\n",
       "    </tr>\n",
       "    <tr>\n",
       "      <th>8</th>\n",
       "      <td>0.249471</td>\n",
       "    </tr>\n",
       "    <tr>\n",
       "      <th>9</th>\n",
       "      <td>0.283298</td>\n",
       "    </tr>\n",
       "    <tr>\n",
       "      <th>10</th>\n",
       "      <td>0.209302</td>\n",
       "    </tr>\n",
       "    <tr>\n",
       "      <th>11</th>\n",
       "      <td>0.238901</td>\n",
       "    </tr>\n",
       "    <tr>\n",
       "      <th>12</th>\n",
       "      <td>0.253700</td>\n",
       "    </tr>\n",
       "    <tr>\n",
       "      <th>13</th>\n",
       "      <td>0.241015</td>\n",
       "    </tr>\n",
       "    <tr>\n",
       "      <th>14</th>\n",
       "      <td>0.257928</td>\n",
       "    </tr>\n",
       "    <tr>\n",
       "      <th>15</th>\n",
       "      <td>0.221987</td>\n",
       "    </tr>\n",
       "    <tr>\n",
       "      <th>16</th>\n",
       "      <td>0.251586</td>\n",
       "    </tr>\n",
       "    <tr>\n",
       "      <th>17</th>\n",
       "      <td>0.298097</td>\n",
       "    </tr>\n",
       "    <tr>\n",
       "      <th>18</th>\n",
       "      <td>0.245243</td>\n",
       "    </tr>\n",
       "    <tr>\n",
       "      <th>19</th>\n",
       "      <td>0.238901</td>\n",
       "    </tr>\n",
       "  </tbody>\n",
       "</table>\n",
       "</div>"
      ],
      "text/plain": [
       "    Accuracy\n",
       "0   0.270613\n",
       "1   0.253700\n",
       "2   0.255814\n",
       "3   0.234672\n",
       "4   0.236786\n",
       "5   0.255814\n",
       "6   0.230444\n",
       "7   0.257928\n",
       "8   0.249471\n",
       "9   0.283298\n",
       "10  0.209302\n",
       "11  0.238901\n",
       "12  0.253700\n",
       "13  0.241015\n",
       "14  0.257928\n",
       "15  0.221987\n",
       "16  0.251586\n",
       "17  0.298097\n",
       "18  0.245243\n",
       "19  0.238901"
      ]
     },
     "execution_count": 223,
     "metadata": {},
     "output_type": "execute_result"
    }
   ],
   "source": [
    "multiple_DT = pd.DataFrame()\n",
    "\n",
    "for i in range(20):\n",
    "    X_train, X_test, Y_train, Y_test = train_test_split(X,Y, test_size=0.2)\n",
    "    obs_model = DecisionTreeClassifier()\n",
    "    obs_model.fit(X=X_train, y=Y_train)\n",
    "    obs_predictions = obs_model.predict(X_test)\n",
    "    multiple_DT[i] = [accuracy_score(Y_test, obs_predictions)]\n",
    " \n",
    "multiple_DT = multiple_DT.transpose()\n",
    "multiple_DT.columns = [\"Accuracy\"]\n",
    "\n",
    "print(f\"The average accuracy was: {round(np.mean(multiple_DT.iloc[:,0]), 4)}\")\n",
    "multiple_DT"
   ]
  }
 ],
 "metadata": {
  "colab": {
   "authorship_tag": "ABX9TyM/FYEKqoxhvWnx+NbK7TSD",
   "collapsed_sections": [],
   "mount_file_id": "1vzCfKj0t3E59aDlOrWPmsCsj9Mj3t4FX",
   "name": "PredictingPriceBands_ML.ipynb",
   "provenance": []
  },
  "kernelspec": {
   "display_name": "Python 3 (ipykernel)",
   "language": "python",
   "name": "python3"
  },
  "language_info": {
   "codemirror_mode": {
    "name": "ipython",
    "version": 3
   },
   "file_extension": ".py",
   "mimetype": "text/x-python",
   "name": "python",
   "nbconvert_exporter": "python",
   "pygments_lexer": "ipython3",
   "version": "3.9.7"
  }
 },
 "nbformat": 4,
 "nbformat_minor": 1
}
